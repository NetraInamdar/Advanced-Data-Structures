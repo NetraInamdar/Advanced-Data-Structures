{
 "cells": [
  {
   "cell_type": "code",
   "execution_count": 26,
   "metadata": {},
   "outputs": [
    {
     "name": "stdout",
     "output_type": "stream",
     "text": [
      "[[[0L, 9774564756L, 'july']], None, None, [[3L, 5674564756L, 'john']], None, [[5, 1284539756, 'ana']], None, None, [[8L, 3495089485L, 'erica']], [[9L, 9348472076L, 'siri']], None]\n",
      "The value at given key is: john\n",
      "[[[0L, 9774564756L, 'july']], None, None, [[3L, 5674564756L, 'john']], None, [[5, 1284539756, 'ana']], None, None, [[8L, 3495089485L, 'erica']], [], None]\n"
     ]
    }
   ],
   "source": [
    "from __future__ import print_function\n",
    "class HashTable:\n",
    "    def __init__(self,size):\n",
    "        self.size = size \n",
    "        self.table = [None] * self.size\n",
    "        \n",
    "    def get_hash(self,key):\n",
    "        return key%self.size\n",
    "    \n",
    "    def insert(self,key,value):\n",
    "        key_hash=self.get_hash(key)\n",
    "        key_value= [key_hash,key,value]\n",
    "        \n",
    "        if self.table[key_hash] is None:\n",
    "            self.table[key_hash]=list ([key_value])\n",
    "        else:\n",
    "            for i in self.table[key_hash]:\n",
    "                if i[1]==key:\n",
    "                    i[2]=value\n",
    "    \n",
    "    def find(self,key):\n",
    "        key_hash=self.get_hash(key)\n",
    "        if self.table[key_hash] is not None:\n",
    "            for i in self.table[key_hash]:\n",
    "                if i[1]==key:\n",
    "                    print(\"The value at given key is:\",end=\" \")\n",
    "                    return i[2]\n",
    "        return None\n",
    "    \n",
    "    def delete(self,key):\n",
    "        key_hash=self.get_hash(key)\n",
    "        \n",
    "        if self.table[key_hash] is None:\n",
    "            return False\n",
    "        for i in range(0, len(self.table[key_hash])):\n",
    "            if self.table[key_hash][i][1] == key:\n",
    "                self.table[key_hash].pop(i)\n",
    "      \n",
    "    def list1(self):\n",
    "        for index,value in enumerate(self.table):\n",
    "            print(self.table[index])\n",
    "    \n",
    "H=HashTable(11)\n",
    "H.insert(9774564756,\"bob\")     # insert data\n",
    "H.insert(3495089485,\"erica\")\n",
    "H.insert(4982307580,\"will\")\n",
    "H.insert(1284539756,\"ana\")\n",
    "H.insert(9774564756,\"july\")    # replacing the data at existing key\n",
    "H.insert(5674564756,\"john\")\n",
    "H.insert(9348472076,\"siri\")\n",
    "print(H.table)\n",
    "print(H.find(5674564756))      # find the value of given key\n",
    "H.delete(9348472076)           # delete a key va;ue pair\n",
    "print(H.table)"
   ]
  },
  {
   "cell_type": "code",
   "execution_count": null,
   "metadata": {},
   "outputs": [],
   "source": []
  }
 ],
 "metadata": {
  "kernelspec": {
   "display_name": "Python 2",
   "language": "python",
   "name": "python2"
  },
  "language_info": {
   "codemirror_mode": {
    "name": "ipython",
    "version": 2
   },
   "file_extension": ".py",
   "mimetype": "text/x-python",
   "name": "python",
   "nbconvert_exporter": "python",
   "pygments_lexer": "ipython2",
   "version": "2.7.15"
  }
 },
 "nbformat": 4,
 "nbformat_minor": 2
}
